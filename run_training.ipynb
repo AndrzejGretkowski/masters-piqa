{
 "cells": [
  {
   "cell_type": "markdown",
   "source": [
    "# Training on PIQA data set"
   ],
   "metadata": {}
  },
  {
   "cell_type": "code",
   "execution_count": null,
   "source": [
    "%%capture\r\n",
    "!git clone https://github.com/AndrzejGretkowski/masters-piqa.git\r\n",
    "%cd masters-piqa\r\n",
    "!pip install -r requirements.txt -f https://download.pytorch.org/whl/torch_stable.html"
   ],
   "outputs": [],
   "metadata": {}
  },
  {
   "cell_type": "code",
   "execution_count": null,
   "source": [
    "from run import main\r\n",
    "from piqa.model.conceptnet_base import AffordanceType\r\n",
    "\r\n",
    "\r\n",
    "main(\r\n",
    "    experiment_type='baseline',\r\n",
    "    affordance_type=AffordanceType.STANDALONE,\r\n",
    "    ngrams=1,\r\n",
    "    return_words=7,\r\n",
    "    definition_length=25,\r\n",
    "    model_type='roberta-base',\r\n",
    "    model_path=None,\r\n",
    "    save_path='./piqa-roberta.pt',\r\n",
    "    gpus=1,\r\n",
    "    batch_size=2,\r\n",
    "    learning_rate=1e-6,\r\n",
    "    fix_valid_set=True,\r\n",
    "    evaluation_only=False,\r\n",
    "    notebook=True,\r\n",
    ")"
   ],
   "outputs": [],
   "metadata": {}
  }
 ],
 "metadata": {
  "kernelspec": {
   "display_name": "Python 3",
   "language": "python",
   "name": "python3"
  },
  "language_info": {
   "codemirror_mode": {
    "name": "ipython",
    "version": 3
   },
   "file_extension": ".py",
   "mimetype": "text/x-python",
   "name": "python",
   "nbconvert_exporter": "python",
   "pygments_lexer": "ipython3",
   "version": "3.7.2"
  }
 },
 "nbformat": 4,
 "nbformat_minor": 2
}