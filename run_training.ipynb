{
 "cells": [
  {
   "cell_type": "markdown",
   "metadata": {},
   "source": [
    "# Training on PIQA data set"
   ]
  },
  {
   "source": [
    "%%capture\n",
    "!git clone https://github.com/AndrzejGretkowski/masters-piqa.git\n",
    "%cd masters-piqa\n",
    "!pip install -r requirements.txt"
   ],
   "cell_type": "code",
   "metadata": {},
   "execution_count": null,
   "outputs": []
  },
  {
   "cell_type": "code",
   "execution_count": null,
   "metadata": {},
   "outputs": [],
   "source": [
    "from run import main\n",
    "\n",
    "\n",
    "main(\n",
    "    model_type='roberta',\n",
    "    model_path=None,\n",
    "    save_path='./piqa-roberta.pt',\n",
    "    device_name='cuda',\n",
    "    batch_size=6,\n",
    "    fix_valid_set=False,\n",
    "    evaluation_only=False,\n",
    "    notebook=True,\n",
    ")"
   ]
  }
 ],
 "metadata": {
  "kernelspec": {
   "display_name": "Python 3",
   "language": "python",
   "name": "python3"
  },
  "language_info": {
   "codemirror_mode": {
    "name": "ipython",
    "version": 3
   },
   "file_extension": ".py",
   "mimetype": "text/x-python",
   "name": "python",
   "nbconvert_exporter": "python",
   "pygments_lexer": "ipython3",
   "version": "3.7.2"
  }
 },
 "nbformat": 4,
 "nbformat_minor": 2
}