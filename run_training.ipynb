{
 "cells": [
  {
   "cell_type": "markdown",
   "source": [
    "# Training on PIQA data set"
   ],
   "metadata": {}
  },
  {
   "cell_type": "code",
   "execution_count": null,
   "source": [
    "%%capture\n",
    "!git clone https://github.com/AndrzejGretkowski/masters-piqa.git\n",
    "%cd masters-piqa\n",
    "!pip install -r requirements.txt -f https://download.pytorch.org/whl/torch_stable.html"
   ],
   "outputs": [],
   "metadata": {}
  },
  {
   "cell_type": "code",
   "execution_count": null,
   "source": [
    "from run2 import main\n",
    "\n",
    "\n",
    "main(\n",
    "    model_type='roberta',\n",
    "    model_path=None,\n",
    "    save_path='./piqa-roberta.pt',\n",
    "    gpus=1,\n",
    "    batch_size=6,\n",
    "    learning_rate=1e-4,\n",
    "    fix_valid_set=False,\n",
    "    evaluation_only=False,\n",
    "    notebook=True,\n",
    ")"
   ],
   "outputs": [],
   "metadata": {}
  }
 ],
 "metadata": {
  "kernelspec": {
   "display_name": "Python 3",
   "language": "python",
   "name": "python3"
  },
  "language_info": {
   "codemirror_mode": {
    "name": "ipython",
    "version": 3
   },
   "file_extension": ".py",
   "mimetype": "text/x-python",
   "name": "python",
   "nbconvert_exporter": "python",
   "pygments_lexer": "ipython3",
   "version": "3.7.2"
  }
 },
 "nbformat": 4,
 "nbformat_minor": 2
}